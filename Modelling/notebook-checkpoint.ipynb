{
 "cells": [
  {
   "cell_type": "code",
   "execution_count": 6,
   "metadata": {},
   "outputs": [],
   "source": [
    "import pandas as pd\n",
    "import seaborn as sns\n",
    "import matplotlib as plt\n",
    "import numpy as np\n"
   ]
  },
  {
   "cell_type": "code",
   "execution_count": null,
   "metadata": {},
   "outputs": [],
   "source": [
    "df = pd.read_csv('pandas_dataframe_importing_csv/example.csv')\n",
    "df"
   ]
  },
  {
   "cell_type": "markdown",
   "metadata": {},
   "source": [
    "# Descriptive Statistics"
   ]
  },
  {
   "cell_type": "code",
   "execution_count": 5,
   "metadata": {},
   "outputs": [],
   "source": [
    "# Correlation matrix - code modified from Kaggle Starter kernel  \n",
    "def plotCorrelationMatrix(df, graphWidth):\n",
    "    corr = df.corr()\n",
    "    plt.figure(num=None, figsize=(graphWidth, graphWidth), dpi=80, facecolor='w', edgecolor='k')\n",
    "    corrMat = plt.matshow(corr, fignum = 1)\n",
    "    plt.xticks(range(len(corr.columns)), corr.columns, rotation=90)\n",
    "    plt.yticks(range(len(corr.columns)), corr.columns)\n",
    "    plt.gca().xaxis.tick_bottom()\n",
    "    plt.colorbar(corrMat)\n",
    "    plt.title(f'Correlation Matrix', fontsize=15)\n",
    "    plt.show()"
   ]
  },
  {
   "cell_type": "code",
   "execution_count": null,
   "metadata": {},
   "outputs": [],
   "source": [
    "def plotScatter2d(df):\n",
    " \n",
    "    #subset the data with the chosen features\n",
    "    x = df[['Beer_PerCapita', 'Wine_PerCapita']]\n",
    "    y=df['HappinessBinned']\n",
    "    \n",
    "        \n",
    "    x_min, x_max = x['Beer_PerCapita'].min() - .5, x['Beer_PerCapita'].max() + .5\n",
    "    y_min, y_max = x['Wine_PerCapita'].min() - .5, x['Wine_PerCapita'].max() + .5\n",
    "    \n",
    "    plt.figure(2, figsize=(8, 6))\n",
    "    plt.clf()\n",
    "    \n",
    "    # Plot the training points\n",
    "    plt.scatter(x['Beer_PerCapita'], x['Wine_PerCapita'], c=y)\n",
    "    \n",
    "    plt.xlabel('Beer_PerCapita')\n",
    "    plt.ylabel('Wine_PerCapita')\n",
    "    \n",
    "    plt.xlim(x_min, x_max)\n",
    "    plt.ylim(y_min, y_max)\n",
    "    plt.xticks(())\n",
    "    plt.yticks(())\n",
    "    plt.show()\n",
    "    \n",
    "    #Plot happiness over Beer consumption\n",
    "    plt.scatter(x['Beer_PerCapita'], df['HappinessScore'], c=y)\n",
    "    plt.xlabel('Beer_PerCapita')\n",
    "    plt.ylabel('HappinessScore')\n",
    "    plt.show()\n",
    "    \n",
    "        # Plot happiness over Wine consumption\n",
    "    plt.scatter(x['Wine_PerCapita'], df['HappinessScore'], c=y)\n",
    "    plt.xlabel('Wine_PerCapita')\n",
    "    plt.ylabel('HappinessScore')\n",
    "    plt.show()\n",
    "\n",
    "            # Plot happiness over Wine consumption\n",
    "    plt.scatter(df['Spirit_PerCapita'], df['HappinessScore'], c=y)\n",
    "    plt.xlabel('Spirit_PerCapita')\n",
    "    plt.ylabel('HappinessScore')\n",
    "    plt.show()\n",
    "    "
   ]
  }
 ],
 "metadata": {
  "kernelspec": {
   "display_name": "Python 3",
   "language": "python",
   "name": "python3"
  },
  "language_info": {
   "codemirror_mode": {
    "name": "ipython",
    "version": 3
   },
   "file_extension": ".py",
   "mimetype": "text/x-python",
   "name": "python",
   "nbconvert_exporter": "python",
   "pygments_lexer": "ipython3",
   "version": "3.7.0"
  }
 },
 "nbformat": 4,
 "nbformat_minor": 2
}
